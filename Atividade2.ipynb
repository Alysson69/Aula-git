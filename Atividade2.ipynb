{
  "nbformat": 4,
  "nbformat_minor": 0,
  "metadata": {
    "colab": {
      "provenance": [],
      "authorship_tag": "ABX9TyOH57ainCxMG8el3mIbRD6O",
      "include_colab_link": true
    },
    "kernelspec": {
      "name": "python3",
      "display_name": "Python 3"
    },
    "language_info": {
      "name": "python"
    }
  },
  "cells": [
    {
      "cell_type": "markdown",
      "metadata": {
        "id": "view-in-github",
        "colab_type": "text"
      },
      "source": [
        "<a href=\"https://colab.research.google.com/github/Alysson69/Aula-git/blob/master/Atividade2.ipynb\" target=\"_parent\"><img src=\"https://colab.research.google.com/assets/colab-badge.svg\" alt=\"Open In Colab\"/></a>"
      ]
    },
    {
      "cell_type": "code",
      "execution_count": null,
      "metadata": {
        "id": "_AtqoDgHpmNC"
      },
      "outputs": [],
      "source": [
        "#Exercicio 1\n",
        "# Lista para armazenar os números inseridos\n",
        "numeros = []\n",
        "\n",
        "# Solicita ao usuário para inserir 5 números\n",
        "for i in range(5):\n",
        "    numero = float(input(\"Digite o {}º número: \".format(i + 1)))\n",
        "    numeros.append(numero)\n",
        "\n",
        "# Imprime o quadrado de cada número\n",
        "print(\"O quadrado de cada número é:\")\n",
        "for numero in numeros:\n",
        "    quadrado = numero ** 2\n",
        "    print(\"O quadrado de\", numero, \"é\", quadrado)"
      ]
    },
    {
      "cell_type": "code",
      "source": [
        "#Exercicio 2\n",
        "# Solicita ao usuário para inserir o número de vezes que deseja imprimir \"Python\"\n",
        "num_vezes = int(input(\"Digite o número de vezes que deseja imprimir a palavra 'Python': \"))\n",
        "\n",
        "# Imprime a palavra \"Python\" o número de vezes especificado pelo usuário\n",
        "for _ in range(num_vezes):\n",
        "    print(\"Python\")"
      ],
      "metadata": {
        "id": "IyHfpIBrs8GB"
      },
      "execution_count": null,
      "outputs": []
    },
    {
      "cell_type": "code",
      "source": [
        "#Exercicio 3\n",
        "# Inicialização de variáveis\n",
        "atletas = []  # Lista para armazenar as informações dos atletas\n",
        "soma_idade = 0  # Variável para armazenar a soma das idades dos atletas\n",
        "contagem_atletas = 0  # Variável para contar o número de atletas\n",
        "\n",
        "# Leitura das informações dos atletas\n",
        "while True:\n",
        "    nome = input(\"Digite o nome do atleta (ou 'fim' para encerrar): \")\n",
        "    if nome.lower() == 'fim':\n",
        "        break  # Encerra o loop se o usuário digitar 'fim'\n",
        "\n",
        "    sexo = input(\"Digite o sexo do atleta (M para masculino, F para feminino): \")\n",
        "    idade = int(input(\"Digite a idade do atleta: \"))\n",
        "    peso = float(input(\"Digite o peso do atleta (em kg): \"))\n",
        "    altura = float(input(\"Digite a altura do atleta (em metros): \"))\n",
        "\n",
        "    atleta = {'nome': nome, 'sexo': sexo, 'idade': idade, 'peso': peso, 'altura': altura}\n",
        "    atletas.append(atleta)\n",
        "    soma_idade += idade\n",
        "    contagem_atletas += 1\n",
        "\n",
        "# Verificação do atleta masculino mais alto e da atleta feminina mais pesada\n",
        "mais_alto_masculino = None\n",
        "mais_pesada_feminina = None\n",
        "\n",
        "for atleta in atletas:\n",
        "    if atleta['sexo'].upper() == 'M':\n",
        "        if mais_alto_masculino is None or atleta['altura'] > mais_alto_masculino['altura']:\n",
        "            mais_alto_masculino = atleta\n",
        "    elif atleta['sexo'].upper() == 'F':\n",
        "        if mais_pesada_feminina is None or atleta['peso'] > mais_pesada_feminina['peso']:\n",
        "            mais_pesada_feminina = atleta\n",
        "\n",
        "# Cálculo da média de idade dos atletas\n",
        "if contagem_atletas > 0:\n",
        "    media_idade = soma_idade / contagem_atletas\n",
        "else:\n",
        "    media_idade = 0\n",
        "\n",
        "# Impressão dos resultados\n",
        "print(\"\\nResultados:\")\n",
        "if mais_alto_masculino is not None:\n",
        "    print(\"Atleta masculino mais alto:\", mais_alto_masculino['nome'], \"- Altura:\", mais_alto_masculino['altura'], \"m\")\n",
        "else:\n",
        "    print(\"Não há atletas masculinos.\")\n",
        "\n",
        "if mais_pesada_feminina is not None:\n",
        "    print(\"Atleta feminina mais pesada:\", mais_pesada_feminina['nome'], \"- Peso:\", mais_pesada_feminina['peso'], \"kg\")\n",
        "else:\n",
        "    print(\"Não há atletas femininas.\")\n",
        "\n",
        "print(\"Média de idade dos atletas:\", media_idade, \"anos\")"
      ],
      "metadata": {
        "id": "Sope5LRIs9nA"
      },
      "execution_count": null,
      "outputs": []
    },
    {
      "cell_type": "code",
      "source": [
        "#Exercicio 4\n",
        "# Solicita ao usuário para inserir um número\n",
        "num = int(input(\"Digite um número maior que zero: \"))\n",
        "\n",
        "# Inicializa a soma dos múltiplos de 5\n",
        "soma_multiplos_5 = 0\n",
        "\n",
        "# Itera sobre o intervalo aberto entre 1 e num\n",
        "for i in range(1, num):\n",
        "    if i % 5 == 0:  # Verifica se i é um múltiplo de 5\n",
        "        soma_multiplos_5 += i\n",
        "\n",
        "# Imprime a soma dos múltiplos de 5\n",
        "print(\"A soma dos múltiplos de 5 no intervalo aberto entre 1 e\", num, \"é:\", soma_multiplos_5)\n"
      ],
      "metadata": {
        "id": "MtQZM0wEtASv"
      },
      "execution_count": null,
      "outputs": []
    },
    {
      "cell_type": "code",
      "source": [
        "#Exercicio 5\n",
        "# Inicializa a variável para armazenar a soma\n",
        "soma = 0\n",
        "\n",
        "# Loop para imprimir os números de 1 a 100 e calcular a soma\n",
        "for i in range(1, 101):\n",
        "    print(i)\n",
        "    soma += i\n",
        "\n",
        "# Imprime a soma dos números\n",
        "print(\"A soma de todos os números de 1 a 100 é:\", soma)\n"
      ],
      "metadata": {
        "id": "24yf0EOctD_f"
      },
      "execution_count": null,
      "outputs": []
    },
    {
      "cell_type": "code",
      "source": [
        "#Exercicio 6\n",
        "# Inicializa a variável para armazenar a soma\n",
        "soma = 0\n",
        "\n",
        "# Inicializa o contador\n",
        "contador = 1\n",
        "\n",
        "# Loop para imprimir os números de 1 a 100 e calcular a soma\n",
        "while contador <= 100:\n",
        "    print(contador)\n",
        "    soma += contador\n",
        "    contador += 1\n",
        "\n",
        "# Imprime a soma dos números\n",
        "print(\"A soma de todos os números de 1 a 100 é:\", soma)\n",
        "\n"
      ],
      "metadata": {
        "id": "j00ETVf3tFJB"
      },
      "execution_count": null,
      "outputs": []
    }
  ]
}