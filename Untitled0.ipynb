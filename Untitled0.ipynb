{
  "nbformat": 4,
  "nbformat_minor": 0,
  "metadata": {
    "colab": {
      "provenance": [],
      "authorship_tag": "ABX9TyP9HqLdSUNN3qsBuvpbW4H0",
      "include_colab_link": true
    },
    "kernelspec": {
      "name": "python3",
      "display_name": "Python 3"
    },
    "language_info": {
      "name": "python"
    }
  },
  "cells": [
    {
      "cell_type": "markdown",
      "metadata": {
        "id": "view-in-github",
        "colab_type": "text"
      },
      "source": [
        "<a href=\"https://colab.research.google.com/github/Alysson69/Aula-git/blob/master/Untitled0.ipynb\" target=\"_parent\"><img src=\"https://colab.research.google.com/assets/colab-badge.svg\" alt=\"Open In Colab\"/></a>"
      ]
    },
    {
      "cell_type": "code",
      "source": [
        "#Exercicio 1\n",
        "def imprimir_se_maior_que_20(numero):\n",
        "    \"\"\"\n",
        "    Imprime o número fornecido se ele for maior que 20.\n",
        "\n",
        "    Argumentos:\n",
        "    numero: O número a ser verificado.\n",
        "    \"\"\"\n",
        "    if numero > 20:\n",
        "        print(\"O número\", numero, \"é maior que 20.\")\n",
        "\n",
        "# Solicita ao usuário para inserir um número\n",
        "numero = float(input(\"Digite um número: \"))\n",
        "\n",
        "# Verifica se o número é maior que 20 e o imprime, se for\n",
        "imprimir_se_maior_que_20(numero)"
      ],
      "metadata": {
        "id": "bSnkqr6XoJnn"
      },
      "execution_count": null,
      "outputs": []
    },
    {
      "cell_type": "code",
      "source": [
        "#Exercicio 2\n",
        "def verificar_multiplo_de_3(numero):\n",
        "    \"\"\"\n",
        "    Verifica se o número fornecido é um múltiplo de 3 e imprime a mensagem correspondente.\n",
        "\n",
        "    Argumentos:\n",
        "    numero: O número a ser verificado.\n",
        "    \"\"\"\n",
        "    if numero % 3 == 0:\n",
        "        print(\"O número\", numero, \"é múltiplo de 3.\")\n",
        "    else:\n",
        "        print(\"O número\", numero, \"não é múltiplo de 3.\")\n",
        "\n",
        "# Solicita ao usuário para inserir um número\n",
        "numero = int(input(\"Digite um número: \"))\n",
        "\n",
        "# Verifica se o número é um múltiplo de 3 e imprime a mensagem correspondente\n",
        "verificar_multiplo_de_3(numero)"
      ],
      "metadata": {
        "id": "lWcZQuaGofk3"
      },
      "execution_count": null,
      "outputs": []
    },
    {
      "cell_type": "code",
      "source": [
        "#Exercicio 3\n",
        "def verificar_divisivel_por_3_e_7(numero):\n",
        "    \"\"\"\n",
        "    Verifica se o número fornecido é divisível por 3 e por 7 e imprime a mensagem correspondente.\n",
        "\n",
        "    Argumentos:\n",
        "    numero: O número a ser verificado.\n",
        "    \"\"\"\n",
        "    if numero % 3 == 0 and numero % 7 == 0:\n",
        "        print(\"O número\", numero, \"é divisível por 3 e por 7.\")\n",
        "    else:\n",
        "        print(\"O número\", numero, \"não é divisível por 3 e por 7.\")\n",
        "\n",
        "# Solicita ao usuário para inserir um número\n",
        "numero = int(input(\"Digite um número: \"))\n",
        "\n",
        "# Verifica se o número é divisível por 3 e por 7 e imprime a mensagem correspondente\n",
        "verificar_divisivel_por_3_e_7(numero)"
      ],
      "metadata": {
        "id": "R9jdGc4yoi7P"
      },
      "execution_count": null,
      "outputs": []
    },
    {
      "cell_type": "code",
      "source": [
        "#Exercicio 4\n",
        "def calcular_novo_saldo(saldo):\n",
        "    \"\"\"\n",
        "    Calcula o novo saldo após um reajuste de 2%.\n",
        "\n",
        "    Argumentos:\n",
        "    saldo: O saldo da aplicação.\n",
        "\n",
        "    Retorna:\n",
        "    O novo saldo após o reajuste.\n",
        "    \"\"\"\n",
        "    novo_saldo = saldo * 1.02  # Aumento de 2%\n",
        "    return novo_saldo\n",
        "\n",
        "# Solicita ao usuário para inserir o saldo da aplicação\n",
        "saldo_atual = float(input(\"Digite o saldo atual da aplicação: \"))\n",
        "\n",
        "# Calcula o novo saldo após o reajuste de 2%\n",
        "novo_saldo = calcular_novo_saldo(saldo_atual)\n",
        "\n",
        "# Imprime o novo saldo\n",
        "print(\"O novo saldo após o reajuste de 2% é:\", novo_saldo)"
      ],
      "metadata": {
        "id": "-CKY_PHJolcY"
      },
      "execution_count": null,
      "outputs": []
    },
    {
      "cell_type": "code",
      "source": [
        "#Exercicio 5\n",
        "def arredondar_nota(nota):\n",
        "    \"\"\"\n",
        "    Arredonda a nota para 7 se for maior ou igual a 6.5.\n",
        "\n",
        "    Argumentos:\n",
        "    nota: A nota do aluno.\n",
        "\n",
        "    Retorna:\n",
        "    A nova nota após o arredondamento.\n",
        "    \"\"\"\n",
        "    if nota >= 6.5:\n",
        "        return 7\n",
        "    else:\n",
        "        return nota\n",
        "\n",
        "# Solicita ao usuário para inserir a nota do aluno\n",
        "nota_aluno = float(input(\"Digite a nota do aluno: \"))\n",
        "\n",
        "# Calcula a nova nota após o arredondamento\n",
        "nova_nota = arredondar_nota(nota_aluno)\n",
        "\n",
        "# Imprime a nova nota\n",
        "print(\"A nova nota do aluno após o arredondamento é:\", nova_nota)"
      ],
      "metadata": {
        "id": "nEMIf7mXonXg"
      },
      "execution_count": null,
      "outputs": []
    },
    {
      "cell_type": "code",
      "source": [
        "#Exercicio 6\n",
        "def calcular(operacao, num1, num2):\n",
        "    \"\"\"\n",
        "    Calcula o resultado da operação fornecida com os dois números fornecidos.\n",
        "\n",
        "    Argumentos:\n",
        "    operacao: A operação a ser realizada ('+', '-', '*', ou '/').\n",
        "    num1: O primeiro número.\n",
        "    num2: O segundo número.\n",
        "\n",
        "    Retorna:\n",
        "    O resultado da operação.\n",
        "    \"\"\"\n",
        "    if operacao == '+':\n",
        "        return num1 + num2\n",
        "    elif operacao == '-':\n",
        "        return num1 - num2\n",
        "    elif operacao == '*':\n",
        "        return num1 * num2\n",
        "    elif operacao == '/':\n",
        "        if num2 != 0:  # Verifica se num2 é diferente de zero para evitar divisão por zero\n",
        "            return num1 / num2\n",
        "        else:\n",
        "            return \"Erro: Divisão por zero!\"\n",
        "    else:\n",
        "        return \"Erro: Operação inválida!\"\n",
        "\n",
        "# Solicita ao usuário para inserir a operação e os números\n",
        "operacao = input(\"Digite a operação (+, -, *, /): \")\n",
        "numero1 = float(input(\"Digite o primeiro número: \"))\n",
        "numero2 = float(input(\"Digite o segundo número: \"))\n",
        "\n",
        "# Calcula e imprime o resultado da operação\n",
        "resultado = calcular(operacao, numero1, numero2)\n",
        "print(\"O resultado da operação é:\", resultado)"
      ],
      "metadata": {
        "id": "85kx0UcOopEe"
      },
      "execution_count": null,
      "outputs": []
    },
    {
      "cell_type": "code",
      "source": [
        "#Exercicio 7\n",
        "# Solicita ao usuário para inserir seu nome e sexo\n",
        "nome = input(\"Digite seu nome: \")\n",
        "sexo = input(\"Digite seu sexo (M para masculino ou F para feminino): \")\n",
        "\n",
        "# Verifica se a idade é igual a 18 e o sexo é masculino\n",
        "if sexo.upper() == 'M':\n",
        "    idade = int(input(\"Digite sua idade: \"))  # Solicita a idade apenas se o sexo for masculino\n",
        "    if idade == 18:\n",
        "        print(\"Serviço militar obrigatório\")\n",
        "    else:\n",
        "        print(\"Liberado do serviço militar obrigatório\")\n",
        "else:\n",
        "    print(\"Liberado do serviço militar obrigatório\")"
      ],
      "metadata": {
        "id": "EnVsRdUmoqe2"
      },
      "execution_count": null,
      "outputs": []
    },
    {
      "cell_type": "code",
      "source": [
        "#Exercicio 8\n",
        "# Solicita ao usuário para inserir o salário atual\n",
        "salario = float(input(\"Digite o salário atual do funcionário: \"))\n",
        "\n",
        "# Calcula o imposto de acordo com a tabela\n",
        "if salario <= 500:\n",
        "    imposto = 0\n",
        "elif salario <= 1000:\n",
        "    imposto = salario * 0.05\n",
        "elif salario <= 1500:\n",
        "    imposto = salario * 0.07\n",
        "else:\n",
        "    imposto = salario * 0.1\n",
        "\n",
        "# Imprime o valor do imposto a ser pago\n",
        "print(\"O valor do imposto a ser pago é:\", imposto)"
      ],
      "metadata": {
        "id": "tltFIQFSors3"
      },
      "execution_count": null,
      "outputs": []
    },
    {
      "cell_type": "code",
      "source": [
        "#Exercicio 9\n",
        "# Solicita ao usuário para inserir sua idade\n",
        "idade = int(input(\"Digite sua idade: \"))\n",
        "\n",
        "# Verifica a faixa etária com base na idade e mostra a mensagem correspondente\n",
        "if idade <= 18:\n",
        "    print(\"Você é menor de idade.\")\n",
        "elif idade >= 65:\n",
        "    print(\"Você é do Clube Nissei.\")\n",
        "else:\n",
        "    print(\"Você é um adulto ativo.\")"
      ],
      "metadata": {
        "id": "9pKtDRBbos0g"
      },
      "execution_count": null,
      "outputs": []
    },
    {
      "cell_type": "code",
      "source": [
        "#Exercicio 10\n",
        "# Pergunta ao usuário se ele possui irmãos\n",
        "resposta = input(\"Você possui irmãos? (Digite 'sim' ou 'não'): \")\n",
        "\n",
        "# Verifica se o usuário possui irmãos e, se sim, solicita o número de irmãos\n",
        "if resposta.lower() == 'sim':\n",
        "    numero_irmaos = int(input(\"Quantos irmãos você tem? \"))\n",
        "    print(\"Você tem\", numero_irmaos, \"irmãos.\")\n",
        "else:\n",
        "    print(\"Você não possui irmãos.\")"
      ],
      "metadata": {
        "id": "dat419K3ouHX"
      },
      "execution_count": null,
      "outputs": []
    }
  ]
}