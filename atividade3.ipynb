{
  "nbformat": 4,
  "nbformat_minor": 0,
  "metadata": {
    "colab": {
      "provenance": [],
      "authorship_tag": "ABX9TyMstakSdjIZ8H+P6WyPma3V",
      "include_colab_link": true
    },
    "kernelspec": {
      "name": "python3",
      "display_name": "Python 3"
    },
    "language_info": {
      "name": "python"
    }
  },
  "cells": [
    {
      "cell_type": "markdown",
      "metadata": {
        "id": "view-in-github",
        "colab_type": "text"
      },
      "source": [
        "<a href=\"https://colab.research.google.com/github/Alysson69/Aula-git/blob/master/atividade3.ipynb\" target=\"_parent\"><img src=\"https://colab.research.google.com/assets/colab-badge.svg\" alt=\"Open In Colab\"/></a>"
      ]
    },
    {
      "cell_type": "code",
      "execution_count": null,
      "metadata": {
        "id": "z9_JNj_2tc6r"
      },
      "outputs": [],
      "source": [
        "#Exercicio 1\n",
        "# Criando um vetor com 5 elementos do tipo float\n",
        "vetor_float = [1.5, 2.3, 3.7, 4.2, 5.9]\n",
        "\n",
        "print(vetor_float)"
      ]
    },
    {
      "cell_type": "code",
      "source": [
        "#Exercicio 2\n",
        "# Encontrando o menor elemento no vetor\n",
        "menor_elemento = min(vetor_float)\n",
        "\n",
        "print(\"O menor elemento no vetor é:\", menor_elemento)"
      ],
      "metadata": {
        "id": "C8yrCg3rtfOi"
      },
      "execution_count": null,
      "outputs": []
    },
    {
      "cell_type": "code",
      "source": [
        "#Exercicio 3\n",
        "# Substituindo números ímpares por -1\n",
        "for i in range(len(vetor_float)):\n",
        "    if vetor_float[i] % 2 != 0:\n",
        "        vetor_float[i] = -1\n",
        "\n",
        "print(\"Vetor após substituir números ímpares por -1:\", vetor_float)\n"
      ],
      "metadata": {
        "id": "ervuBMmrthfy"
      },
      "execution_count": null,
      "outputs": []
    },
    {
      "cell_type": "code",
      "source": [
        "#Exercicio 4\n",
        "# Imprimindo o tamanho do vetor\n",
        "tamanho_vetor = len(vetor_float)\n",
        "\n",
        "print(\"O tamanho do vetor é:\", tamanho_vetor)"
      ],
      "metadata": {
        "id": "Ry_83I-OtjB4"
      },
      "execution_count": null,
      "outputs": []
    },
    {
      "cell_type": "code",
      "source": [
        "#Exercicio 5\n",
        "# Acrescentando um número na posição 4\n",
        "numero = 8.6\n",
        "posicao = 4\n",
        "vetor_float.insert(posicao, numero)\n",
        "\n",
        "print(\"Vetor após acrescentar um número na posição 4:\", vetor_float)"
      ],
      "metadata": {
        "id": "81mcQ1rNtk1n"
      },
      "execution_count": null,
      "outputs": []
    },
    {
      "cell_type": "code",
      "source": [
        "#Exercicio 6\n",
        "def encontrar_menor(lista):\n",
        "\n",
        "    if len(lista) == 0:\n",
        "        return None  # Se a lista estiver vazia, retorna None\n",
        "\n",
        "    # Retorna o menor valor na lista\n",
        "    return min(lista)\n",
        "\n",
        "# Exemplo de uso:\n",
        "numeros = [5, 2, 8, 1, 9]\n",
        "menor_valor = encontrar_menor(numeros)\n",
        "print(\"O menor valor na lista é:\", menor_valor)"
      ],
      "metadata": {
        "id": "ZX4qGO0htmnp"
      },
      "execution_count": null,
      "outputs": []
    },
    {
      "cell_type": "code",
      "source": [
        "#Exercicio 7\n",
        "def soma_numeros_pares(lista):\n",
        "    soma = 0\n",
        "    for num in lista:\n",
        "        if num % 2 == 0:\n",
        "            soma += num\n",
        "    return soma\n",
        "\n",
        "# Exemplo de uso:\n",
        "numeros = [1, 2, 3, 4, 5, 6, 7, 8, 9, 10]\n",
        "soma_pares = soma_numeros_pares(numeros)\n",
        "print(\"A soma dos números pares na lista é:\", soma_pares)"
      ],
      "metadata": {
        "id": "AHxz_lZvtn3c"
      },
      "execution_count": null,
      "outputs": []
    },
    {
      "cell_type": "code",
      "source": [
        "#Exercicio 8\n",
        "def calcular_perimetro_quadrado(lado):\n",
        "    \"\"\"\n",
        "    Calcula o perímetro de um quadrado dado o comprimento do lado.\n",
        "\n",
        "    Argumentos:\n",
        "    lado: Comprimento do lado do quadrado.\n",
        "\n",
        "    Retorna:\n",
        "    O perímetro do quadrado.\n",
        "    \"\"\"\n",
        "    return 4 * lado\n",
        "\n",
        "# Exemplo de uso:\n",
        "comprimento_lado = 5\n",
        "perimetro = calcular_perimetro_quadrado(comprimento_lado)\n",
        "print(\"O perímetro do quadrado com lado de comprimento\", comprimento_lado, \"é:\", perimetro)"
      ],
      "metadata": {
        "id": "RlW4Zszmtqkb"
      },
      "execution_count": null,
      "outputs": []
    },
    {
      "cell_type": "code",
      "source": [
        "#Exercicio 9\n",
        "def minutos_para_segundos(tempo_minutos):\n",
        "    \"\"\"\n",
        "    Converte o tempo de minutos para segundos.\n",
        "\n",
        "    Argumentos:\n",
        "    tempo_minutos: Tempo em minutos.\n",
        "\n",
        "    Retorna:\n",
        "    O tempo convertido em segundos.\n",
        "    \"\"\"\n",
        "    return tempo_minutos * 60\n",
        "\n",
        "# Exemplo de uso:\n",
        "tempo_em_minutos = 10\n",
        "tempo_em_segundos = minutos_para_segundos(tempo_em_minutos)\n",
        "print(\"O tempo de\", tempo_em_minutos, \"minutos é igual a\", tempo_em_segundos, \"segundos.\")"
      ],
      "metadata": {
        "id": "sw8ZyhoWts7C"
      },
      "execution_count": null,
      "outputs": []
    },
    {
      "cell_type": "code",
      "source": [
        "#Exercicio 10\n",
        "def calcular_quadrado(numero):\n",
        "    \"\"\"\n",
        "    Calcula o quadrado de um número.\n",
        "\n",
        "    Argumentos:\n",
        "    numero: O número para o qual o quadrado será calculado.\n",
        "\n",
        "    Retorna:\n",
        "    O quadrado do número.\n",
        "    \"\"\"\n",
        "    return numero ** 2\n",
        "\n",
        "# Exemplo de uso:\n",
        "numero = 5\n",
        "quadrado = calcular_quadrado(numero)\n",
        "print(\"O quadrado de\", numero, \"é:\", quadrado)"
      ],
      "metadata": {
        "id": "s-y7uCugtuIp"
      },
      "execution_count": null,
      "outputs": []
    }
  ]
}